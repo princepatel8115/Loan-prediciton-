{
 "cells": [
  {
   "cell_type": "code",
   "execution_count": 1,
   "id": "246c348e",
   "metadata": {},
   "outputs": [],
   "source": [
    "import pandas as pd\n",
    "import numpy as np"
   ]
  },
  {
   "cell_type": "code",
   "execution_count": 80,
   "id": "5696df71",
   "metadata": {},
   "outputs": [
    {
     "data": {
      "text/html": [
       "<div>\n",
       "<style scoped>\n",
       "    .dataframe tbody tr th:only-of-type {\n",
       "        vertical-align: middle;\n",
       "    }\n",
       "\n",
       "    .dataframe tbody tr th {\n",
       "        vertical-align: top;\n",
       "    }\n",
       "\n",
       "    .dataframe thead th {\n",
       "        text-align: right;\n",
       "    }\n",
       "</style>\n",
       "<table border=\"1\" class=\"dataframe\">\n",
       "  <thead>\n",
       "    <tr style=\"text-align: right;\">\n",
       "      <th></th>\n",
       "      <th>Unnamed: 0</th>\n",
       "      <th>ID</th>\n",
       "      <th>Pin-code</th>\n",
       "      <th>age</th>\n",
       "      <th>Fam members</th>\n",
       "      <th>Education</th>\n",
       "      <th>T.Experience</th>\n",
       "      <th>Income</th>\n",
       "      <th>Mortgage</th>\n",
       "      <th>Fixed Deposit</th>\n",
       "      <th>Demat</th>\n",
       "      <th>Net Banking</th>\n",
       "      <th>Loan</th>\n",
       "    </tr>\n",
       "  </thead>\n",
       "  <tbody>\n",
       "    <tr>\n",
       "      <th>0</th>\n",
       "      <td>0</td>\n",
       "      <td>10001</td>\n",
       "      <td>110001</td>\n",
       "      <td>23</td>\n",
       "      <td>4.0</td>\n",
       "      <td>Under Graduate</td>\n",
       "      <td>1.0</td>\n",
       "      <td>392000</td>\n",
       "      <td>0</td>\n",
       "      <td>no</td>\n",
       "      <td>yes</td>\n",
       "      <td>no</td>\n",
       "      <td>no</td>\n",
       "    </tr>\n",
       "    <tr>\n",
       "      <th>1</th>\n",
       "      <td>1</td>\n",
       "      <td>10002</td>\n",
       "      <td>110014</td>\n",
       "      <td>43</td>\n",
       "      <td>3.0</td>\n",
       "      <td>Under Graduate</td>\n",
       "      <td>19.0</td>\n",
       "      <td>272000</td>\n",
       "      <td>0</td>\n",
       "      <td>no</td>\n",
       "      <td>yes</td>\n",
       "      <td>no</td>\n",
       "      <td>no</td>\n",
       "    </tr>\n",
       "    <tr>\n",
       "      <th>2</th>\n",
       "      <td>2</td>\n",
       "      <td>10003</td>\n",
       "      <td>110014</td>\n",
       "      <td>37</td>\n",
       "      <td>1.0</td>\n",
       "      <td>Under Graduate</td>\n",
       "      <td>15.0</td>\n",
       "      <td>88000</td>\n",
       "      <td>0</td>\n",
       "      <td>no</td>\n",
       "      <td>no</td>\n",
       "      <td>no</td>\n",
       "      <td>no</td>\n",
       "    </tr>\n",
       "    <tr>\n",
       "      <th>3</th>\n",
       "      <td>3</td>\n",
       "      <td>10004</td>\n",
       "      <td>110003</td>\n",
       "      <td>33</td>\n",
       "      <td>1.0</td>\n",
       "      <td>Graduate</td>\n",
       "      <td>9.0</td>\n",
       "      <td>800000</td>\n",
       "      <td>0</td>\n",
       "      <td>no</td>\n",
       "      <td>no</td>\n",
       "      <td>no</td>\n",
       "      <td>no</td>\n",
       "    </tr>\n",
       "    <tr>\n",
       "      <th>4</th>\n",
       "      <td>4</td>\n",
       "      <td>10005</td>\n",
       "      <td>110004</td>\n",
       "      <td>33</td>\n",
       "      <td>4.0</td>\n",
       "      <td>Graduate</td>\n",
       "      <td>8.0</td>\n",
       "      <td>360000</td>\n",
       "      <td>0</td>\n",
       "      <td>no</td>\n",
       "      <td>no</td>\n",
       "      <td>no</td>\n",
       "      <td>no</td>\n",
       "    </tr>\n",
       "  </tbody>\n",
       "</table>\n",
       "</div>"
      ],
      "text/plain": [
       "   Unnamed: 0     ID  Pin-code  age  Fam members       Education  \\\n",
       "0           0  10001    110001   23          4.0  Under Graduate   \n",
       "1           1  10002    110014   43          3.0  Under Graduate   \n",
       "2           2  10003    110014   37          1.0  Under Graduate   \n",
       "3           3  10004    110003   33          1.0        Graduate   \n",
       "4           4  10005    110004   33          4.0        Graduate   \n",
       "\n",
       "   T.Experience  Income  Mortgage Fixed Deposit Demat Net Banking Loan  \n",
       "0           1.0  392000         0            no   yes          no   no  \n",
       "1          19.0  272000         0            no   yes          no   no  \n",
       "2          15.0   88000         0            no    no          no   no  \n",
       "3           9.0  800000         0            no    no          no   no  \n",
       "4           8.0  360000         0            no    no          no   no  "
      ]
     },
     "execution_count": 80,
     "metadata": {},
     "output_type": "execute_result"
    }
   ],
   "source": [
    "data=pd.read_csv(\"loan_dataset.csv\")\n",
    "data.head()"
   ]
  },
  {
   "cell_type": "code",
   "execution_count": 3,
   "id": "e34c13ae",
   "metadata": {},
   "outputs": [
    {
     "data": {
      "text/html": [
       "<div>\n",
       "<style scoped>\n",
       "    .dataframe tbody tr th:only-of-type {\n",
       "        vertical-align: middle;\n",
       "    }\n",
       "\n",
       "    .dataframe tbody tr th {\n",
       "        vertical-align: top;\n",
       "    }\n",
       "\n",
       "    .dataframe thead th {\n",
       "        text-align: right;\n",
       "    }\n",
       "</style>\n",
       "<table border=\"1\" class=\"dataframe\">\n",
       "  <thead>\n",
       "    <tr style=\"text-align: right;\">\n",
       "      <th></th>\n",
       "      <th>Unnamed: 0</th>\n",
       "      <th>ID</th>\n",
       "      <th>Pin-code</th>\n",
       "      <th>age</th>\n",
       "      <th>Fam members</th>\n",
       "      <th>T.Experience</th>\n",
       "      <th>Income</th>\n",
       "      <th>Mortgage</th>\n",
       "    </tr>\n",
       "  </thead>\n",
       "  <tbody>\n",
       "    <tr>\n",
       "      <th>count</th>\n",
       "      <td>5000.000000</td>\n",
       "      <td>5.000000e+03</td>\n",
       "      <td>5000.000000</td>\n",
       "      <td>5000.000000</td>\n",
       "      <td>5000.000000</td>\n",
       "      <td>5000.000000</td>\n",
       "      <td>5.000000e+03</td>\n",
       "      <td>5.000000e+03</td>\n",
       "    </tr>\n",
       "    <tr>\n",
       "      <th>mean</th>\n",
       "      <td>2499.500000</td>\n",
       "      <td>8.186318e+06</td>\n",
       "      <td>110006.557800</td>\n",
       "      <td>43.338400</td>\n",
       "      <td>2.396400</td>\n",
       "      <td>20.104600</td>\n",
       "      <td>5.901936e+05</td>\n",
       "      <td>4.519904e+05</td>\n",
       "    </tr>\n",
       "    <tr>\n",
       "      <th>std</th>\n",
       "      <td>1443.520003</td>\n",
       "      <td>3.638026e+06</td>\n",
       "      <td>4.998725</td>\n",
       "      <td>11.463166</td>\n",
       "      <td>1.147663</td>\n",
       "      <td>11.467954</td>\n",
       "      <td>3.682698e+05</td>\n",
       "      <td>8.137104e+05</td>\n",
       "    </tr>\n",
       "    <tr>\n",
       "      <th>min</th>\n",
       "      <td>0.000000</td>\n",
       "      <td>1.000100e+04</td>\n",
       "      <td>110001.000000</td>\n",
       "      <td>21.000000</td>\n",
       "      <td>1.000000</td>\n",
       "      <td>-3.000000</td>\n",
       "      <td>6.400000e+04</td>\n",
       "      <td>0.000000e+00</td>\n",
       "    </tr>\n",
       "    <tr>\n",
       "      <th>25%</th>\n",
       "      <td>1249.750000</td>\n",
       "      <td>1.000125e+07</td>\n",
       "      <td>110003.000000</td>\n",
       "      <td>33.000000</td>\n",
       "      <td>1.000000</td>\n",
       "      <td>10.000000</td>\n",
       "      <td>3.120000e+05</td>\n",
       "      <td>0.000000e+00</td>\n",
       "    </tr>\n",
       "    <tr>\n",
       "      <th>50%</th>\n",
       "      <td>2499.500000</td>\n",
       "      <td>1.000250e+07</td>\n",
       "      <td>110004.000000</td>\n",
       "      <td>43.000000</td>\n",
       "      <td>2.000000</td>\n",
       "      <td>20.000000</td>\n",
       "      <td>5.120000e+05</td>\n",
       "      <td>0.000000e+00</td>\n",
       "    </tr>\n",
       "    <tr>\n",
       "      <th>75%</th>\n",
       "      <td>3749.250000</td>\n",
       "      <td>1.000375e+07</td>\n",
       "      <td>110011.000000</td>\n",
       "      <td>53.000000</td>\n",
       "      <td>3.000000</td>\n",
       "      <td>30.000000</td>\n",
       "      <td>7.840000e+05</td>\n",
       "      <td>8.080000e+05</td>\n",
       "    </tr>\n",
       "    <tr>\n",
       "      <th>max</th>\n",
       "      <td>4999.000000</td>\n",
       "      <td>1.000500e+07</td>\n",
       "      <td>110014.000000</td>\n",
       "      <td>65.000000</td>\n",
       "      <td>4.000000</td>\n",
       "      <td>43.000000</td>\n",
       "      <td>1.792000e+06</td>\n",
       "      <td>5.080000e+06</td>\n",
       "    </tr>\n",
       "  </tbody>\n",
       "</table>\n",
       "</div>"
      ],
      "text/plain": [
       "        Unnamed: 0            ID       Pin-code          age  Fam members  \\\n",
       "count  5000.000000  5.000000e+03    5000.000000  5000.000000  5000.000000   \n",
       "mean   2499.500000  8.186318e+06  110006.557800    43.338400     2.396400   \n",
       "std    1443.520003  3.638026e+06       4.998725    11.463166     1.147663   \n",
       "min       0.000000  1.000100e+04  110001.000000    21.000000     1.000000   \n",
       "25%    1249.750000  1.000125e+07  110003.000000    33.000000     1.000000   \n",
       "50%    2499.500000  1.000250e+07  110004.000000    43.000000     2.000000   \n",
       "75%    3749.250000  1.000375e+07  110011.000000    53.000000     3.000000   \n",
       "max    4999.000000  1.000500e+07  110014.000000    65.000000     4.000000   \n",
       "\n",
       "       T.Experience        Income      Mortgage  \n",
       "count   5000.000000  5.000000e+03  5.000000e+03  \n",
       "mean      20.104600  5.901936e+05  4.519904e+05  \n",
       "std       11.467954  3.682698e+05  8.137104e+05  \n",
       "min       -3.000000  6.400000e+04  0.000000e+00  \n",
       "25%       10.000000  3.120000e+05  0.000000e+00  \n",
       "50%       20.000000  5.120000e+05  0.000000e+00  \n",
       "75%       30.000000  7.840000e+05  8.080000e+05  \n",
       "max       43.000000  1.792000e+06  5.080000e+06  "
      ]
     },
     "execution_count": 3,
     "metadata": {},
     "output_type": "execute_result"
    }
   ],
   "source": [
    "data.describe()"
   ]
  },
  {
   "cell_type": "code",
   "execution_count": 4,
   "id": "b6a5c867",
   "metadata": {},
   "outputs": [
    {
     "name": "stdout",
     "output_type": "stream",
     "text": [
      "<class 'pandas.core.frame.DataFrame'>\n",
      "RangeIndex: 5000 entries, 0 to 4999\n",
      "Data columns (total 13 columns):\n",
      " #   Column         Non-Null Count  Dtype  \n",
      "---  ------         --------------  -----  \n",
      " 0   Unnamed: 0     5000 non-null   int64  \n",
      " 1   ID             5000 non-null   int64  \n",
      " 2   Pin-code       5000 non-null   int64  \n",
      " 3   age            5000 non-null   int64  \n",
      " 4   Fam members    5000 non-null   float64\n",
      " 5   Education      5000 non-null   object \n",
      " 6   T.Experience   5000 non-null   float64\n",
      " 7   Income         5000 non-null   int64  \n",
      " 8   Mortgage       5000 non-null   int64  \n",
      " 9   Fixed Deposit  5000 non-null   object \n",
      " 10  Demat          5000 non-null   object \n",
      " 11  Net Banking    5000 non-null   object \n",
      " 12  Loan           5000 non-null   object \n",
      "dtypes: float64(2), int64(6), object(5)\n",
      "memory usage: 507.9+ KB\n"
     ]
    }
   ],
   "source": [
    "data.info()"
   ]
  },
  {
   "cell_type": "code",
   "execution_count": 5,
   "id": "818fc4af",
   "metadata": {},
   "outputs": [
    {
     "data": {
      "text/plain": [
       "Education\n",
       "Under Graduate    2096\n",
       "Post Graduate     1501\n",
       "Graduate          1403\n",
       "dtype: int64"
      ]
     },
     "execution_count": 5,
     "metadata": {},
     "output_type": "execute_result"
    }
   ],
   "source": [
    "data.value_counts(\"Education\")"
   ]
  },
  {
   "cell_type": "code",
   "execution_count": 6,
   "id": "d2405b2a",
   "metadata": {},
   "outputs": [
    {
     "data": {
      "text/plain": [
       "Fixed Deposit\n",
       "no     4698\n",
       "yes     302\n",
       "dtype: int64"
      ]
     },
     "execution_count": 6,
     "metadata": {},
     "output_type": "execute_result"
    }
   ],
   "source": [
    "data.value_counts(\"Fixed Deposit\")"
   ]
  },
  {
   "cell_type": "code",
   "execution_count": 7,
   "id": "06899002",
   "metadata": {},
   "outputs": [
    {
     "data": {
      "text/plain": [
       "T.Experience\n",
       " 32.0    154\n",
       " 20.0    148\n",
       " 9.0     147\n",
       " 5.0     146\n",
       " 23.0    144\n",
       " 35.0    143\n",
       " 25.0    142\n",
       " 28.0    138\n",
       " 18.0    137\n",
       " 19.0    135\n",
       " 26.0    134\n",
       " 24.0    131\n",
       " 3.0     129\n",
       " 14.0    127\n",
       " 16.0    127\n",
       " 30.0    126\n",
       " 34.0    125\n",
       " 27.0    125\n",
       " 17.0    125\n",
       " 22.0    124\n",
       " 29.0    124\n",
       " 7.0     121\n",
       " 6.0     119\n",
       " 15.0    119\n",
       " 8.0     119\n",
       " 10.0    118\n",
       " 13.0    117\n",
       " 33.0    117\n",
       " 11.0    116\n",
       " 37.0    116\n",
       " 36.0    114\n",
       " 4.0     113\n",
       " 21.0    113\n",
       " 31.0    104\n",
       " 12.0    102\n",
       " 38.0     88\n",
       " 2.0      85\n",
       " 39.0     85\n",
       " 1.0      74\n",
       " 0.0      66\n",
       " 40.0     57\n",
       " 41.0     43\n",
       "-1.0      33\n",
       "-2.0      15\n",
       " 42.0      8\n",
       "-3.0       4\n",
       " 43.0      3\n",
       "dtype: int64"
      ]
     },
     "execution_count": 7,
     "metadata": {},
     "output_type": "execute_result"
    }
   ],
   "source": [
    "data.value_counts(\"T.Experience\")"
   ]
  },
  {
   "cell_type": "code",
   "execution_count": 8,
   "id": "71898d20",
   "metadata": {},
   "outputs": [
    {
     "data": {
      "text/plain": [
       "Demat\n",
       "no     4478\n",
       "yes     522\n",
       "dtype: int64"
      ]
     },
     "execution_count": 8,
     "metadata": {},
     "output_type": "execute_result"
    }
   ],
   "source": [
    "data.value_counts(\"Demat\")"
   ]
  },
  {
   "cell_type": "code",
   "execution_count": 84,
   "id": "1517fc3a",
   "metadata": {},
   "outputs": [
    {
     "data": {
      "text/plain": [
       "Net Banking\n",
       "yes    2984\n",
       "no     2016\n",
       "dtype: int64"
      ]
     },
     "execution_count": 84,
     "metadata": {},
     "output_type": "execute_result"
    }
   ],
   "source": [
    "data.value_counts(\"Net Banking\")"
   ]
  },
  {
   "cell_type": "code",
   "execution_count": 85,
   "id": "0dfd8124",
   "metadata": {},
   "outputs": [
    {
     "data": {
      "text/plain": [
       "Loan\n",
       "no     4520\n",
       "yes     480\n",
       "dtype: int64"
      ]
     },
     "execution_count": 85,
     "metadata": {},
     "output_type": "execute_result"
    }
   ],
   "source": [
    "data.value_counts(\"Loan\")   #dataset is imbalanced so we are going to balance it "
   ]
  },
  {
   "cell_type": "code",
   "execution_count": 86,
   "id": "af519af5",
   "metadata": {},
   "outputs": [
    {
     "data": {
      "text/plain": [
       "Unnamed: 0       0\n",
       "ID               0\n",
       "Pin-code         0\n",
       "age              0\n",
       "Fam members      0\n",
       "Education        0\n",
       "T.Experience     0\n",
       "Income           0\n",
       "Mortgage         0\n",
       "Fixed Deposit    0\n",
       "Demat            0\n",
       "Net Banking      0\n",
       "Loan             0\n",
       "dtype: int64"
      ]
     },
     "execution_count": 86,
     "metadata": {},
     "output_type": "execute_result"
    }
   ],
   "source": [
    "data.isnull().sum()"
   ]
  },
  {
   "cell_type": "code",
   "execution_count": 87,
   "id": "14c2e0ae",
   "metadata": {},
   "outputs": [
    {
     "data": {
      "text/plain": [
       "Text(0.5, 1.0, 'Correlation Matrix')"
      ]
     },
     "execution_count": 87,
     "metadata": {},
     "output_type": "execute_result"
    },
    {
     "data": {
      "image/png": "[encoded data removed]",
      "text/plain": [
       "<Figure size 864x432 with 2 Axes>"
      ]
     },
     "metadata": {
      "needs_background": "light"
     },
     "output_type": "display_data"
    }
   ],
   "source": [
    "#correlation matrix\n",
    "import seaborn as sns\n",
    "import matplotlib.pyplot as plt\n",
    "plt.figure(figsize=(12,6))\n",
    "sns.heatmap(data.corr(),annot=True)\n",
    "plt.title(\"Correlation Matrix\")"
   ]
  },
  {
   "cell_type": "code",
   "execution_count": 88,
   "id": "d5a698d4",
   "metadata": {},
   "outputs": [
    {
     "data": {
      "text/html": [
       "<div>\n",
       "<style scoped>\n",
       "    .dataframe tbody tr th:only-of-type {\n",
       "        vertical-align: middle;\n",
       "    }\n",
       "\n",
       "    .dataframe tbody tr th {\n",
       "        vertical-align: top;\n",
       "    }\n",
       "\n",
       "    .dataframe thead th {\n",
       "        text-align: right;\n",
       "    }\n",
       "</style>\n",
       "<table border=\"1\" class=\"dataframe\">\n",
       "  <thead>\n",
       "    <tr style=\"text-align: right;\">\n",
       "      <th></th>\n",
       "      <th>Unnamed: 0</th>\n",
       "      <th>age</th>\n",
       "      <th>Fam members</th>\n",
       "      <th>Education</th>\n",
       "      <th>T.Experience</th>\n",
       "      <th>Income</th>\n",
       "      <th>Mortgage</th>\n",
       "      <th>Fixed Deposit</th>\n",
       "      <th>Demat</th>\n",
       "      <th>Net Banking</th>\n",
       "      <th>Loan</th>\n",
       "    </tr>\n",
       "  </thead>\n",
       "  <tbody>\n",
       "    <tr>\n",
       "      <th>0</th>\n",
       "      <td>0</td>\n",
       "      <td>23</td>\n",
       "      <td>4.0</td>\n",
       "      <td>Under Graduate</td>\n",
       "      <td>1.0</td>\n",
       "      <td>392000</td>\n",
       "      <td>0</td>\n",
       "      <td>no</td>\n",
       "      <td>yes</td>\n",
       "      <td>no</td>\n",
       "      <td>no</td>\n",
       "    </tr>\n",
       "    <tr>\n",
       "      <th>1</th>\n",
       "      <td>1</td>\n",
       "      <td>43</td>\n",
       "      <td>3.0</td>\n",
       "      <td>Under Graduate</td>\n",
       "      <td>19.0</td>\n",
       "      <td>272000</td>\n",
       "      <td>0</td>\n",
       "      <td>no</td>\n",
       "      <td>yes</td>\n",
       "      <td>no</td>\n",
       "      <td>no</td>\n",
       "    </tr>\n",
       "    <tr>\n",
       "      <th>2</th>\n",
       "      <td>2</td>\n",
       "      <td>37</td>\n",
       "      <td>1.0</td>\n",
       "      <td>Under Graduate</td>\n",
       "      <td>15.0</td>\n",
       "      <td>88000</td>\n",
       "      <td>0</td>\n",
       "      <td>no</td>\n",
       "      <td>no</td>\n",
       "      <td>no</td>\n",
       "      <td>no</td>\n",
       "    </tr>\n",
       "    <tr>\n",
       "      <th>3</th>\n",
       "      <td>3</td>\n",
       "      <td>33</td>\n",
       "      <td>1.0</td>\n",
       "      <td>Graduate</td>\n",
       "      <td>9.0</td>\n",
       "      <td>800000</td>\n",
       "      <td>0</td>\n",
       "      <td>no</td>\n",
       "      <td>no</td>\n",
       "      <td>no</td>\n",
       "      <td>no</td>\n",
       "    </tr>\n",
       "    <tr>\n",
       "      <th>4</th>\n",
       "      <td>4</td>\n",
       "      <td>33</td>\n",
       "      <td>4.0</td>\n",
       "      <td>Graduate</td>\n",
       "      <td>8.0</td>\n",
       "      <td>360000</td>\n",
       "      <td>0</td>\n",
       "      <td>no</td>\n",
       "      <td>no</td>\n",
       "      <td>no</td>\n",
       "      <td>no</td>\n",
       "    </tr>\n",
       "  </tbody>\n",
       "</table>\n",
       "</div>"
      ],
      "text/plain": [
       "   Unnamed: 0  age  Fam members       Education  T.Experience  Income  \\\n",
       "0           0   23          4.0  Under Graduate           1.0  392000   \n",
       "1           1   43          3.0  Under Graduate          19.0  272000   \n",
       "2           2   37          1.0  Under Graduate          15.0   88000   \n",
       "3           3   33          1.0        Graduate           9.0  800000   \n",
       "4           4   33          4.0        Graduate           8.0  360000   \n",
       "\n",
       "   Mortgage Fixed Deposit Demat Net Banking Loan  \n",
       "0         0            no   yes          no   no  \n",
       "1         0            no   yes          no   no  \n",
       "2         0            no    no          no   no  \n",
       "3         0            no    no          no   no  \n",
       "4         0            no    no          no   no  "
      ]
     },
     "execution_count": 88,
     "metadata": {},
     "output_type": "execute_result"
    }
   ],
   "source": [
    "data=data.drop([\"ID\",\"Pin-code\"],axis=1)\n",
    "data.head()"
   ]
  },
  {
   "cell_type": "code",
   "execution_count": 89,
   "id": "88be2c6a",
   "metadata": {},
   "outputs": [
    {
     "data": {
      "image/png": "[encoded data removed]",
      "text/plain": [
       "<Figure size 432x288 with 1 Axes>"
      ]
     },
     "metadata": {
      "needs_background": "light"
     },
     "output_type": "display_data"
    }
   ],
   "source": [
    "#boxplot for outlier\n",
    "plt.boxplot(data[[\"Mortgage\"]])\n",
    "plt.title(\"BoxPlot for Mortgage\")\n",
    "plt.show()"
   ]
  },
  {
   "cell_type": "code",
   "execution_count": 90,
   "id": "2bfcef8d",
   "metadata": {},
   "outputs": [
    {
     "data": {
      "image/png": "[encoded data removed]",
      "text/plain": [
       "<Figure size 432x288 with 1 Axes>"
      ]
     },
     "metadata": {
      "needs_background": "light"
     },
     "output_type": "display_data"
    }
   ],
   "source": [
    "plt.boxplot(data[[\"Fam members\"]])\n",
    "plt.title(\"BoxPlot for Fam members\")\n",
    "plt.show()"
   ]
  },
  {
   "cell_type": "code",
   "execution_count": 91,
   "id": "8ba1c2c6",
   "metadata": {},
   "outputs": [
    {
     "data": {
      "image/png": "[encoded data removed]",
      "text/plain": [
       "<Figure size 432x288 with 1 Axes>"
      ]
     },
     "metadata": {
      "needs_background": "light"
     },
     "output_type": "display_data"
    }
   ],
   "source": [
    "plt.boxplot(data[[\"age\"]])\n",
    "plt.title(\"Age\")\n",
    "plt.show()"
   ]
  },
  {
   "cell_type": "code",
   "execution_count": 92,
   "id": "25b5020b",
   "metadata": {},
   "outputs": [
    {
     "name": "stderr",
     "output_type": "stream",
     "text": [
      "C:\\Users\\pp884\\Anaconda3\\lib\\site-packages\\seaborn\\_decorators.py:36: FutureWarning: Pass the following variable as a keyword arg: x. From version 0.12, the only valid positional argument will be `data`, and passing other arguments without an explicit keyword will result in an error or misinterpretation.\n",
      "  warnings.warn(\n"
     ]
    },
    {
     "data": {
      "text/plain": [
       "<AxesSubplot:xlabel='Education', ylabel='count'>"
      ]
     },
     "execution_count": 92,
     "metadata": {},
     "output_type": "execute_result"
    },
    {
     "data": {
      "image/png": "[encoded data removed]",
      "text/plain": [
       "<Figure size 432x288 with 1 Axes>"
      ]
     },
     "metadata": {
      "needs_background": "light"
     },
     "output_type": "display_data"
    }
   ],
   "source": [
    "sns.countplot(data[\"Education\"])"
   ]
  },
  {
   "cell_type": "code",
   "execution_count": 93,
   "id": "1feba101",
   "metadata": {},
   "outputs": [
    {
     "name": "stderr",
     "output_type": "stream",
     "text": [
      "C:\\Users\\pp884\\Anaconda3\\lib\\site-packages\\seaborn\\_decorators.py:36: FutureWarning: Pass the following variable as a keyword arg: x. From version 0.12, the only valid positional argument will be `data`, and passing other arguments without an explicit keyword will result in an error or misinterpretation.\n",
      "  warnings.warn(\n"
     ]
    },
    {
     "data": {
      "text/plain": [
       "<AxesSubplot:xlabel='Fixed Deposit', ylabel='count'>"
      ]
     },
     "execution_count": 93,
     "metadata": {},
     "output_type": "execute_result"
    },
    {
     "data": {
      "image/png": "[encoded data removed]",
      "text/plain": [
       "<Figure size 432x288 with 1 Axes>"
      ]
     },
     "metadata": {
      "needs_background": "light"
     },
     "output_type": "display_data"
    }
   ],
   "source": [
    "sns.countplot(data[\"Fixed Deposit\"])"
   ]
  },
  {
   "cell_type": "code",
   "execution_count": 94,
   "id": "b6c37925",
   "metadata": {},
   "outputs": [
    {
     "name": "stderr",
     "output_type": "stream",
     "text": [
      "C:\\Users\\pp884\\Anaconda3\\lib\\site-packages\\seaborn\\_decorators.py:36: FutureWarning: Pass the following variable as a keyword arg: x. From version 0.12, the only valid positional argument will be `data`, and passing other arguments without an explicit keyword will result in an error or misinterpretation.\n",
      "  warnings.warn(\n"
     ]
    },
    {
     "data": {
      "text/plain": [
       "<AxesSubplot:xlabel='Demat', ylabel='count'>"
      ]
     },
     "execution_count": 94,
     "metadata": {},
     "output_type": "execute_result"
    },
    {
     "data": {
      "image/png": "[encoded data removed]",
      "text/plain": [
       "<Figure size 432x288 with 1 Axes>"
      ]
     },
     "metadata": {
      "needs_background": "light"
     },
     "output_type": "display_data"
    }
   ],
   "source": [
    "sns.countplot(data[\"Demat\"])"
   ]
  },
  {
   "cell_type": "code",
   "execution_count": 95,
   "id": "f50c6f08",
   "metadata": {},
   "outputs": [
    {
     "name": "stderr",
     "output_type": "stream",
     "text": [
      "C:\\Users\\pp884\\Anaconda3\\lib\\site-packages\\seaborn\\_decorators.py:36: FutureWarning: Pass the following variable as a keyword arg: x. From version 0.12, the only valid positional argument will be `data`, and passing other arguments without an explicit keyword will result in an error or misinterpretation.\n",
      "  warnings.warn(\n"
     ]
    },
    {
     "data": {
      "text/plain": [
       "<AxesSubplot:xlabel='Net Banking', ylabel='count'>"
      ]
     },
     "execution_count": 95,
     "metadata": {},
     "output_type": "execute_result"
    },
    {
     "data": {
      "image/png": "[encoded data removed]",
      "text/plain": [
       "<Figure size 432x288 with 1 Axes>"
      ]
     },
     "metadata": {
      "needs_background": "light"
     },
     "output_type": "display_data"
    }
   ],
   "source": [
    "sns.countplot(data[\"Net Banking\"])"
   ]
  },
  {
   "cell_type": "code",
   "execution_count": 96,
   "id": "50ec88da",
   "metadata": {},
   "outputs": [
    {
     "name": "stderr",
     "output_type": "stream",
     "text": [
      "C:\\Users\\pp884\\Anaconda3\\lib\\site-packages\\seaborn\\_decorators.py:36: FutureWarning: Pass the following variable as a keyword arg: x. From version 0.12, the only valid positional argument will be `data`, and passing other arguments without an explicit keyword will result in an error or misinterpretation.\n",
      "  warnings.warn(\n"
     ]
    },
    {
     "data": {
      "text/plain": [
       "<AxesSubplot:xlabel='Loan', ylabel='count'>"
      ]
     },
     "execution_count": 96,
     "metadata": {},
     "output_type": "execute_result"
    },
    {
     "data": {
      "image/png": "[encoded data removed]",
      "text/plain": [
       "<Figure size 432x288 with 1 Axes>"
      ]
     },
     "metadata": {
      "needs_background": "light"
     },
     "output_type": "display_data"
    }
   ],
   "source": [
    "sns.countplot(data[\"Loan\"])    #data is imbalanced this we can see from picture"
   ]
  },
  {
   "cell_type": "code",
   "execution_count": 97,
   "id": "a64d58d7",
   "metadata": {},
   "outputs": [
    {
     "data": {
      "text/plain": [
       "<AxesSubplot:xlabel='age', ylabel='Income'>"
      ]
     },
     "execution_count": 97,
     "metadata": {},
     "output_type": "execute_result"
    },
    {
     "data": {
      "image/png": "[encoded data removed]",
      "text/plain": [
       "<Figure size 864x432 with 1 Axes>"
      ]
     },
     "metadata": {
      "needs_background": "light"
     },
     "output_type": "display_data"
    }
   ],
   "source": [
    "## BIVARATE ANALYSIS\n",
    "plt.figure(figsize=(12,6))\n",
    "sns.barplot(x=data[\"age\"],y=data[\"Income\"])"
   ]
  },
  {
   "cell_type": "code",
   "execution_count": 98,
   "id": "0fc8a9d0",
   "metadata": {},
   "outputs": [
    {
     "data": {
      "text/plain": [
       "Education\n",
       "Graduate          514508.909480\n",
       "Post Graduate     528980.679547\n",
       "Under Graduate    684690.839695\n",
       "Name: Income, dtype: float64"
      ]
     },
     "execution_count": 98,
     "metadata": {},
     "output_type": "execute_result"
    }
   ],
   "source": [
    "##################################################################\n",
    "data.groupby(\"Education\")[\"Income\"].mean()"
   ]
  },
  {
   "cell_type": "code",
   "execution_count": 99,
   "id": "eff9eb57",
   "metadata": {},
   "outputs": [
    {
     "data": {
      "text/plain": [
       "Fixed Deposit\n",
       "no     574346.530438\n",
       "yes    836715.231788\n",
       "Name: Income, dtype: float64"
      ]
     },
     "execution_count": 99,
     "metadata": {},
     "output_type": "execute_result"
    }
   ],
   "source": [
    "data.groupby(\"Fixed Deposit\")[\"Income\"].mean()"
   ]
  },
  {
   "cell_type": "code",
   "execution_count": 100,
   "id": "8d228308",
   "metadata": {},
   "outputs": [
    {
     "data": {
      "text/plain": [
       "Fixed Deposit\n",
       "no     433566.624095\n",
       "yes    738596.026490\n",
       "Name: Mortgage, dtype: float64"
      ]
     },
     "execution_count": 100,
     "metadata": {},
     "output_type": "execute_result"
    }
   ],
   "source": [
    "data.groupby(\"Fixed Deposit\")[\"Mortgage\"].mean()"
   ]
  },
  {
   "cell_type": "code",
   "execution_count": 101,
   "id": "4d8e9257",
   "metadata": {},
   "outputs": [
    {
     "data": {
      "text/plain": [
       "Demat\n",
       "no     590522.554712\n",
       "yes    587371.647510\n",
       "Name: Income, dtype: float64"
      ]
     },
     "execution_count": 101,
     "metadata": {},
     "output_type": "execute_result"
    }
   ],
   "source": [
    "data.groupby(\"Demat\")[\"Income\"].mean()"
   ]
  },
  {
   "cell_type": "code",
   "execution_count": 102,
   "id": "c047174d",
   "metadata": {},
   "outputs": [
    {
     "data": {
      "text/plain": [
       "Demat\n",
       "no     453493.523895\n",
       "yes    439095.785441\n",
       "Name: Mortgage, dtype: float64"
      ]
     },
     "execution_count": 102,
     "metadata": {},
     "output_type": "execute_result"
    }
   ],
   "source": [
    "data.groupby(\"Demat\")[\"Mortgage\"].mean()"
   ]
  },
  {
   "cell_type": "code",
   "execution_count": 103,
   "id": "b5866647",
   "metadata": {},
   "outputs": [
    {
     "data": {
      "text/html": [
       "<div>\n",
       "<style scoped>\n",
       "    .dataframe tbody tr th:only-of-type {\n",
       "        vertical-align: middle;\n",
       "    }\n",
       "\n",
       "    .dataframe tbody tr th {\n",
       "        vertical-align: top;\n",
       "    }\n",
       "\n",
       "    .dataframe thead th {\n",
       "        text-align: right;\n",
       "    }\n",
       "</style>\n",
       "<table border=\"1\" class=\"dataframe\">\n",
       "  <thead>\n",
       "    <tr style=\"text-align: right;\">\n",
       "      <th></th>\n",
       "      <th>Unnamed: 0</th>\n",
       "      <th>age</th>\n",
       "      <th>Fam members</th>\n",
       "      <th>T.Experience</th>\n",
       "      <th>Income</th>\n",
       "      <th>Mortgage</th>\n",
       "      <th>Education_Post Graduate</th>\n",
       "      <th>Education_Under Graduate</th>\n",
       "      <th>Fixed Deposit_yes</th>\n",
       "      <th>Demat_yes</th>\n",
       "      <th>Net Banking_yes</th>\n",
       "      <th>Loan_yes</th>\n",
       "    </tr>\n",
       "  </thead>\n",
       "  <tbody>\n",
       "    <tr>\n",
       "      <th>0</th>\n",
       "      <td>0</td>\n",
       "      <td>23</td>\n",
       "      <td>4.0</td>\n",
       "      <td>1.0</td>\n",
       "      <td>392000</td>\n",
       "      <td>0</td>\n",
       "      <td>0</td>\n",
       "      <td>1</td>\n",
       "      <td>0</td>\n",
       "      <td>1</td>\n",
       "      <td>0</td>\n",
       "      <td>0</td>\n",
       "    </tr>\n",
       "    <tr>\n",
       "      <th>1</th>\n",
       "      <td>1</td>\n",
       "      <td>43</td>\n",
       "      <td>3.0</td>\n",
       "      <td>19.0</td>\n",
       "      <td>272000</td>\n",
       "      <td>0</td>\n",
       "      <td>0</td>\n",
       "      <td>1</td>\n",
       "      <td>0</td>\n",
       "      <td>1</td>\n",
       "      <td>0</td>\n",
       "      <td>0</td>\n",
       "    </tr>\n",
       "    <tr>\n",
       "      <th>2</th>\n",
       "      <td>2</td>\n",
       "      <td>37</td>\n",
       "      <td>1.0</td>\n",
       "      <td>15.0</td>\n",
       "      <td>88000</td>\n",
       "      <td>0</td>\n",
       "      <td>0</td>\n",
       "      <td>1</td>\n",
       "      <td>0</td>\n",
       "      <td>0</td>\n",
       "      <td>0</td>\n",
       "      <td>0</td>\n",
       "    </tr>\n",
       "    <tr>\n",
       "      <th>3</th>\n",
       "      <td>3</td>\n",
       "      <td>33</td>\n",
       "      <td>1.0</td>\n",
       "      <td>9.0</td>\n",
       "      <td>800000</td>\n",
       "      <td>0</td>\n",
       "      <td>0</td>\n",
       "      <td>0</td>\n",
       "      <td>0</td>\n",
       "      <td>0</td>\n",
       "      <td>0</td>\n",
       "      <td>0</td>\n",
       "    </tr>\n",
       "    <tr>\n",
       "      <th>4</th>\n",
       "      <td>4</td>\n",
       "      <td>33</td>\n",
       "      <td>4.0</td>\n",
       "      <td>8.0</td>\n",
       "      <td>360000</td>\n",
       "      <td>0</td>\n",
       "      <td>0</td>\n",
       "      <td>0</td>\n",
       "      <td>0</td>\n",
       "      <td>0</td>\n",
       "      <td>0</td>\n",
       "      <td>0</td>\n",
       "    </tr>\n",
       "  </tbody>\n",
       "</table>\n",
       "</div>"
      ],
      "text/plain": [
       "   Unnamed: 0  age  Fam members  T.Experience  Income  Mortgage  \\\n",
       "0           0   23          4.0           1.0  392000         0   \n",
       "1           1   43          3.0          19.0  272000         0   \n",
       "2           2   37          1.0          15.0   88000         0   \n",
       "3           3   33          1.0           9.0  800000         0   \n",
       "4           4   33          4.0           8.0  360000         0   \n",
       "\n",
       "   Education_Post Graduate  Education_Under Graduate  Fixed Deposit_yes  \\\n",
       "0                        0                         1                  0   \n",
       "1                        0                         1                  0   \n",
       "2                        0                         1                  0   \n",
       "3                        0                         0                  0   \n",
       "4                        0                         0                  0   \n",
       "\n",
       "   Demat_yes  Net Banking_yes  Loan_yes  \n",
       "0          1                0         0  \n",
       "1          1                0         0  \n",
       "2          0                0         0  \n",
       "3          0                0         0  \n",
       "4          0                0         0  "
      ]
     },
     "execution_count": 103,
     "metadata": {},
     "output_type": "execute_result"
    }
   ],
   "source": [
    "data=pd.get_dummies(data,drop_first=True)\n",
    "data.head()"
   ]
  },
  {
   "cell_type": "code",
   "execution_count": 104,
   "id": "0aa63bd3",
   "metadata": {},
   "outputs": [],
   "source": [
    "y=data[\"Loan_yes\"]\n",
    "x=data.drop(\"Loan_yes\",axis=1)"
   ]
  },
  {
   "cell_type": "code",
   "execution_count": 105,
   "id": "3b51b378",
   "metadata": {},
   "outputs": [],
   "source": [
    "from sklearn.feature_selection import SelectKBest,GenericUnivariateSelect,f_regression"
   ]
  },
  {
   "cell_type": "code",
   "execution_count": 106,
   "id": "f9596cd6",
   "metadata": {},
   "outputs": [],
   "source": [
    "select_fea=GenericUnivariateSelect(score_func=f_regression,mode=\"percentile\",param=3)"
   ]
  },
  {
   "cell_type": "code",
   "execution_count": 107,
   "id": "2e414989",
   "metadata": {},
   "outputs": [
    {
     "data": {
      "text/plain": [
       "GenericUnivariateSelect(param=3,\n",
       "                        score_func=<function f_regression at 0x000002693CB615E0>)"
      ]
     },
     "execution_count": 107,
     "metadata": {},
     "output_type": "execute_result"
    }
   ],
   "source": [
    "gen=select_fea.fit(x,y)\n",
    "gen"
   ]
  },
  {
   "cell_type": "code",
   "execution_count": 108,
   "id": "578dbcb3",
   "metadata": {},
   "outputs": [],
   "source": [
    "sc=pd.DataFrame(gen.scores_)\n",
    "col=pd.DataFrame(x.columns)"
   ]
  },
  {
   "cell_type": "code",
   "execution_count": 109,
   "id": "fbb19cc4",
   "metadata": {},
   "outputs": [],
   "source": [
    "feature_score=pd.concat([col,sc],axis=1)\n",
    "feature_score.columns=[\"col\",\"score\"]\n"
   ]
  },
  {
   "cell_type": "code",
   "execution_count": 110,
   "id": "d1fc2bed",
   "metadata": {},
   "outputs": [
    {
     "name": "stdout",
     "output_type": "stream",
     "text": [
      "                         col        score\n",
      "0                 Unnamed: 0     3.076151\n",
      "1                        age     0.298324\n",
      "2                Fam members    18.893189\n",
      "3               T.Experience     0.274675\n",
      "4                     Income  1688.004580\n",
      "5                   Mortgage   102.994466\n",
      "6    Education_Post Graduate    41.008361\n",
      "7   Education_Under Graduate   113.315172\n",
      "8          Fixed Deposit_yes   555.829340\n",
      "9                  Demat_yes     2.410062\n",
      "10           Net Banking_yes     0.196984\n"
     ]
    }
   ],
   "source": [
    "print(feature_score)"
   ]
  },
  {
   "cell_type": "code",
   "execution_count": 111,
   "id": "3517a281",
   "metadata": {},
   "outputs": [
    {
     "data": {
      "text/html": [
       "<div>\n",
       "<style scoped>\n",
       "    .dataframe tbody tr th:only-of-type {\n",
       "        vertical-align: middle;\n",
       "    }\n",
       "\n",
       "    .dataframe tbody tr th {\n",
       "        vertical-align: top;\n",
       "    }\n",
       "\n",
       "    .dataframe thead th {\n",
       "        text-align: right;\n",
       "    }\n",
       "</style>\n",
       "<table border=\"1\" class=\"dataframe\">\n",
       "  <thead>\n",
       "    <tr style=\"text-align: right;\">\n",
       "      <th></th>\n",
       "      <th>Fam members</th>\n",
       "      <th>Income</th>\n",
       "      <th>Mortgage</th>\n",
       "      <th>Education_Post Graduate</th>\n",
       "      <th>Education_Under Graduate</th>\n",
       "      <th>Fixed Deposit_yes</th>\n",
       "      <th>Loan_yes</th>\n",
       "    </tr>\n",
       "  </thead>\n",
       "  <tbody>\n",
       "    <tr>\n",
       "      <th>0</th>\n",
       "      <td>4.0</td>\n",
       "      <td>392000</td>\n",
       "      <td>0</td>\n",
       "      <td>0</td>\n",
       "      <td>1</td>\n",
       "      <td>0</td>\n",
       "      <td>0</td>\n",
       "    </tr>\n",
       "    <tr>\n",
       "      <th>1</th>\n",
       "      <td>3.0</td>\n",
       "      <td>272000</td>\n",
       "      <td>0</td>\n",
       "      <td>0</td>\n",
       "      <td>1</td>\n",
       "      <td>0</td>\n",
       "      <td>0</td>\n",
       "    </tr>\n",
       "    <tr>\n",
       "      <th>2</th>\n",
       "      <td>1.0</td>\n",
       "      <td>88000</td>\n",
       "      <td>0</td>\n",
       "      <td>0</td>\n",
       "      <td>1</td>\n",
       "      <td>0</td>\n",
       "      <td>0</td>\n",
       "    </tr>\n",
       "    <tr>\n",
       "      <th>3</th>\n",
       "      <td>1.0</td>\n",
       "      <td>800000</td>\n",
       "      <td>0</td>\n",
       "      <td>0</td>\n",
       "      <td>0</td>\n",
       "      <td>0</td>\n",
       "      <td>0</td>\n",
       "    </tr>\n",
       "    <tr>\n",
       "      <th>4</th>\n",
       "      <td>4.0</td>\n",
       "      <td>360000</td>\n",
       "      <td>0</td>\n",
       "      <td>0</td>\n",
       "      <td>0</td>\n",
       "      <td>0</td>\n",
       "      <td>0</td>\n",
       "    </tr>\n",
       "  </tbody>\n",
       "</table>\n",
       "</div>"
      ],
      "text/plain": [
       "   Fam members  Income  Mortgage  Education_Post Graduate  \\\n",
       "0          4.0  392000         0                        0   \n",
       "1          3.0  272000         0                        0   \n",
       "2          1.0   88000         0                        0   \n",
       "3          1.0  800000         0                        0   \n",
       "4          4.0  360000         0                        0   \n",
       "\n",
       "   Education_Under Graduate  Fixed Deposit_yes  Loan_yes  \n",
       "0                         1                  0         0  \n",
       "1                         1                  0         0  \n",
       "2                         1                  0         0  \n",
       "3                         0                  0         0  \n",
       "4                         0                  0         0  "
      ]
     },
     "execution_count": 111,
     "metadata": {},
     "output_type": "execute_result"
    }
   ],
   "source": [
    "data=data.drop([\"Unnamed: 0\",\"age\",\"T.Experience\",\"Demat_yes\",\"Net Banking_yes\"],axis=1)\n",
    "data.head()"
   ]
  },
  {
   "cell_type": "code",
   "execution_count": 112,
   "id": "a475a69c",
   "metadata": {},
   "outputs": [],
   "source": [
    "#splitting into x and y for train and test\n",
    "new_x=data.drop(\"Loan_yes\",axis=1)\n",
    "new_y=data[\"Loan_yes\"]"
   ]
  },
  {
   "cell_type": "code",
   "execution_count": 113,
   "id": "5270fbde",
   "metadata": {},
   "outputs": [],
   "source": [
    "from sklearn.model_selection import train_test_split"
   ]
  },
  {
   "cell_type": "code",
   "execution_count": 114,
   "id": "1857991e",
   "metadata": {},
   "outputs": [],
   "source": [
    "#training and testing\n",
    "x_train,x_test,y_train,y_test=train_test_split(new_x,new_y,random_state=42,test_size=0.3,stratify=y)"
   ]
  },
  {
   "cell_type": "code",
   "execution_count": 115,
   "id": "22c2583f",
   "metadata": {},
   "outputs": [
    {
     "data": {
      "text/plain": [
       "0    1356\n",
       "1     144\n",
       "Name: Loan_yes, dtype: int64"
      ]
     },
     "execution_count": 115,
     "metadata": {},
     "output_type": "execute_result"
    }
   ],
   "source": [
    "y_test.value_counts()  "
   ]
  },
  {
   "cell_type": "code",
   "execution_count": 116,
   "id": "f0e3e263",
   "metadata": {},
   "outputs": [],
   "source": [
    "from imblearn.over_sampling import RandomOverSampler"
   ]
  },
  {
   "cell_type": "code",
   "execution_count": 117,
   "id": "2cb37ee2",
   "metadata": {},
   "outputs": [
    {
     "name": "stderr",
     "output_type": "stream",
     "text": [
      "C:\\Users\\pp884\\Anaconda3\\lib\\site-packages\\imblearn\\utils\\_validation.py:587: FutureWarning: Pass sampling_strategy=0.7 as keyword args. From version 0.9 passing these as positional arguments will result in an error\n",
      "  warnings.warn(\n"
     ]
    }
   ],
   "source": [
    "os=RandomOverSampler(0.70)\n",
    "x_train_new,y_train_new=os.fit_resample(x_train,y_train)"
   ]
  },
  {
   "cell_type": "code",
   "execution_count": 118,
   "id": "df3bacda",
   "metadata": {},
   "outputs": [],
   "source": [
    "from collections import Counter"
   ]
  },
  {
   "cell_type": "code",
   "execution_count": 119,
   "id": "a5f2c3a0",
   "metadata": {},
   "outputs": [
    {
     "data": {
      "text/plain": [
       "0    3164\n",
       "1    2214\n",
       "Name: Loan_yes, dtype: int64"
      ]
     },
     "execution_count": 119,
     "metadata": {},
     "output_type": "execute_result"
    }
   ],
   "source": [
    "#not it is balanced to fit\n",
    "y_train_new.value_counts() #after"
   ]
  },
  {
   "cell_type": "code",
   "execution_count": 120,
   "id": "b0411f3e",
   "metadata": {},
   "outputs": [
    {
     "data": {
      "text/plain": [
       "0    3164\n",
       "1     336\n",
       "Name: Loan_yes, dtype: int64"
      ]
     },
     "execution_count": 120,
     "metadata": {},
     "output_type": "execute_result"
    }
   ],
   "source": [
    "y_train.value_counts()   #before"
   ]
  },
  {
   "cell_type": "code",
   "execution_count": 122,
   "id": "8cc410c9",
   "metadata": {},
   "outputs": [],
   "source": [
    "from imblearn.combine import SMOTETomek"
   ]
  },
  {
   "cell_type": "code",
   "execution_count": 123,
   "id": "0844b9f2",
   "metadata": {},
   "outputs": [
    {
     "name": "stderr",
     "output_type": "stream",
     "text": [
      "C:\\Users\\pp884\\Anaconda3\\lib\\site-packages\\imblearn\\utils\\_validation.py:587: FutureWarning: Pass sampling_strategy=0.7 as keyword args. From version 0.9 passing these as positional arguments will result in an error\n",
      "  warnings.warn(\n"
     ]
    }
   ],
   "source": [
    "sm=SMOTETomek(0.7)"
   ]
  },
  {
   "cell_type": "code",
   "execution_count": 124,
   "id": "b943c153",
   "metadata": {},
   "outputs": [],
   "source": [
    "x_train_sm,y_train_sm=sm.fit_resample(x_train,y_train)"
   ]
  },
  {
   "cell_type": "code",
   "execution_count": 125,
   "id": "76ad64bc",
   "metadata": {},
   "outputs": [
    {
     "data": {
      "text/plain": [
       "0    3113\n",
       "1    2163\n",
       "Name: Loan_yes, dtype: int64"
      ]
     },
     "execution_count": 125,
     "metadata": {},
     "output_type": "execute_result"
    }
   ],
   "source": [
    "y_train_sm.value_counts()"
   ]
  },
  {
   "cell_type": "code",
   "execution_count": 46,
   "id": "5bc0e61a",
   "metadata": {},
   "outputs": [],
   "source": [
    "#cross validation"
   ]
  },
  {
   "cell_type": "code",
   "execution_count": 47,
   "id": "b5ae608a",
   "metadata": {},
   "outputs": [],
   "source": [
    "from sklearn.linear_model import LogisticRegression\n",
    "from sklearn.svm import SVC\n",
    "from sklearn.ensemble import RandomForestClassifier\n",
    "from sklearn.tree import DecisionTreeClassifier\n",
    "from sklearn.ensemble import AdaBoostClassifier\n",
    "from sklearn.ensemble import GradientBoostingClassifier\n"
   ]
  },
  {
   "cell_type": "code",
   "execution_count": 48,
   "id": "77e4d8d5",
   "metadata": {},
   "outputs": [],
   "source": [
    "from sklearn.model_selection import cross_val_score"
   ]
  },
  {
   "cell_type": "code",
   "execution_count": 49,
   "id": "abb3b765",
   "metadata": {},
   "outputs": [
    {
     "name": "stdout",
     "output_type": "stream",
     "text": [
      "[0.90428571 0.90428571 0.90428571 0.90428571 0.90285714]\n",
      "0.9039999999999999\n"
     ]
    }
   ],
   "source": [
    "#logistic regression\n",
    "lr_cr_val=cross_val_score(LogisticRegression(random_state=10),x_train,y_train)\n",
    "print(lr_cr_val)\n",
    "print(np.mean(lr_cr_val))"
   ]
  },
  {
   "cell_type": "code",
   "execution_count": 50,
   "id": "de03c9e9",
   "metadata": {},
   "outputs": [
    {
     "name": "stdout",
     "output_type": "stream",
     "text": [
      "[0.99349442 0.99442379 0.98698885 0.99627907 0.99255814]\n",
      "0.9927488544998703\n"
     ]
    }
   ],
   "source": [
    "#svm\n",
    "svm_cr_val=cross_val_score(SVC(C=1,kernel=\"rbf\",gamma=10),x_train_new,y_train_new)\n",
    "print(svm_cr_val)\n",
    "\n",
    "\n",
    "\n",
    "print(np.mean(svm_cr_val))                                            "
   ]
  },
  {
   "cell_type": "code",
   "execution_count": 51,
   "id": "c9249749",
   "metadata": {},
   "outputs": [
    {
     "name": "stdout",
     "output_type": "stream",
     "text": [
      "[0.99349442 0.98698885 0.97862454 0.98790698 0.98604651]\n",
      "0.9866122590127085\n"
     ]
    }
   ],
   "source": [
    "#randomforestclassifier\n",
    "rfc_cr_val=cross_val_score(RandomForestClassifier(random_state=1234),x_train_new,y_train_new)\n",
    "print(rfc_cr_val)\n",
    "print(np.mean(rfc_cr_val))"
   ]
  },
  {
   "cell_type": "code",
   "execution_count": 52,
   "id": "e685dc7d",
   "metadata": {},
   "outputs": [
    {
     "name": "stdout",
     "output_type": "stream",
     "text": [
      "[0.96003717 0.96561338 0.94609665 0.95069767 0.95255814]\n",
      "0.9550006051698798\n"
     ]
    }
   ],
   "source": [
    "#decision tree\n",
    "dt_cr_val=cross_val_score(DecisionTreeClassifier(random_state=1234,max_depth=5),x_train_new,y_train_new)\n",
    "print(dt_cr_val)\n",
    "print(np.mean(dt_cr_val))"
   ]
  },
  {
   "cell_type": "code",
   "execution_count": 53,
   "id": "b0e23e77",
   "metadata": {},
   "outputs": [
    {
     "name": "stdout",
     "output_type": "stream",
     "text": [
      "[0.92100372 0.90613383 0.91821561 0.93209302 0.91162791]\n",
      "0.9178148180167719\n"
     ]
    }
   ],
   "source": [
    "#AdaBoost\n",
    "ada_cr_val=cross_val_score(AdaBoostClassifier(random_state=1234,n_estimators=20),x_train_new,y_train_new)\n",
    "print(ada_cr_val)\n",
    "print(np.mean(ada_cr_val))"
   ]
  },
  {
   "cell_type": "code",
   "execution_count": 54,
   "id": "458a074b",
   "metadata": {},
   "outputs": [
    {
     "name": "stdout",
     "output_type": "stream",
     "text": [
      "[0.96468401 0.97026022 0.94702602 0.95534884 0.95162791]\n",
      "0.957789400881819\n"
     ]
    }
   ],
   "source": [
    "#XgBoost\n",
    "xgboost_cr_val=cross_val_score(GradientBoostingClassifier(random_state=42),x_train_new,y_train_new)\n",
    "print(xgboost_cr_val)\n",
    "print(np.mean(xgboost_cr_val))"
   ]
  },
  {
   "cell_type": "code",
   "execution_count": 55,
   "id": "04c8b618",
   "metadata": {},
   "outputs": [],
   "source": [
    "#further procees by doing hyperparameter tunning on randomforest and xgboost"
   ]
  },
  {
   "cell_type": "code",
   "execution_count": 147,
   "id": "3df19c6d",
   "metadata": {},
   "outputs": [],
   "source": [
    "#hyperparameter tunning for randomforest\n",
    "from sklearn.model_selection import RandomizedSearchCV"
   ]
  },
  {
   "cell_type": "code",
   "execution_count": 148,
   "id": "49a36c7d",
   "metadata": {},
   "outputs": [],
   "source": [
    "n_estimators=[int(x) for x in np.linspace(start=10, stop=200, num=10)]\n",
    "max_features=[\"auto\",\"sqrt\",\"log2\"]\n",
    "max_depth=[int(x) for x in np.linspace(10,100,10)]\n",
    "min_samples_split=[1,3,4,5,7,10]\n",
    "min_samples_leaf=[1,2,4,6,8]\n",
    "\n",
    "random_grid = { \"n_estimators\": n_estimators,\n",
    "               \"max_features\": max_features,\n",
    "               \"max_depth\": max_depth,\n",
    "               \"min_samples_split\": min_samples_split,\n",
    "               \"min_samples_leaf\": min_samples_leaf,\n",
    "               \"criterion\":[\"entropy\",\"gini\"]}"
   ]
  },
  {
   "cell_type": "code",
   "execution_count": 149,
   "id": "b2002055",
   "metadata": {},
   "outputs": [
    {
     "name": "stdout",
     "output_type": "stream",
     "text": [
      "{'n_estimators': [10, 31, 52, 73, 94, 115, 136, 157, 178, 200], 'max_features': ['auto', 'sqrt', 'log2'], 'max_depth': [10, 20, 30, 40, 50, 60, 70, 80, 90, 100], 'min_samples_split': [1, 3, 4, 5, 7, 10], 'min_samples_leaf': [1, 2, 4, 6, 8], 'criterion': ['entropy', 'gini']}\n"
     ]
    }
   ],
   "source": [
    "print(random_grid)"
   ]
  },
  {
   "cell_type": "code",
   "execution_count": 150,
   "id": "8a3d25e5",
   "metadata": {},
   "outputs": [
    {
     "name": "stdout",
     "output_type": "stream",
     "text": [
      "Fitting 5 folds for each of 50 candidates, totalling 250 fits\n"
     ]
    },
    {
     "name": "stderr",
     "output_type": "stream",
     "text": [
      "C:\\Users\\pp884\\Anaconda3\\lib\\site-packages\\sklearn\\model_selection\\_search.py:922: UserWarning: One or more of the test scores are non-finite: [0.96740144 0.96664333 0.96740126 0.96759084        nan 0.96588486\n",
      " 0.97479481 0.97005547 0.976122   0.96607407        nan 0.97005547\n",
      "        nan 0.97138213 0.97687994 0.97043408 0.96474759        nan\n",
      " 0.97195139 0.9749842  0.96683272 0.97669036        nan        nan\n",
      " 0.97574214        nan 0.96910707 0.96512674 0.96721187 0.96607497\n",
      " 0.97195103 0.97365737        nan 0.97517396 0.97517396 0.97479445\n",
      " 0.97593207 0.97669072 0.96872846 0.96815956        nan 0.97517378\n",
      " 0.96853853        nan 0.97157206 0.97233053 0.97479499 0.97744848\n",
      "        nan 0.96740073]\n",
      "  warnings.warn(\n"
     ]
    },
    {
     "data": {
      "text/plain": [
       "RandomizedSearchCV(cv=5, estimator=RandomForestClassifier(), n_iter=50,\n",
       "                   n_jobs=-1,\n",
       "                   param_distributions={'criterion': ['entropy', 'gini'],\n",
       "                                        'max_depth': [10, 20, 30, 40, 50, 60,\n",
       "                                                      70, 80, 90, 100],\n",
       "                                        'max_features': ['auto', 'sqrt',\n",
       "                                                         'log2'],\n",
       "                                        'min_samples_leaf': [1, 2, 4, 6, 8],\n",
       "                                        'min_samples_split': [1, 3, 4, 5, 7,\n",
       "                                                              10],\n",
       "                                        'n_estimators': [10, 31, 52, 73, 94,\n",
       "                                                         115, 136, 157, 178,\n",
       "                                                         200]},\n",
       "                   random_state=42, verbose=3)"
      ]
     },
     "execution_count": 150,
     "metadata": {},
     "output_type": "execute_result"
    }
   ],
   "source": [
    "rf=RandomForestClassifier()\n",
    "rf_randomcv=RandomizedSearchCV(estimator=rf,param_distributions=random_grid,n_iter=50,cv=5,\n",
    "                               verbose=3,random_state=42,n_jobs=-1)\n",
    "\n",
    "rf_randomcv.fit(x_train_sm,y_train_sm)"
   ]
  },
  {
   "cell_type": "code",
   "execution_count": 151,
   "id": "f335bc55",
   "metadata": {},
   "outputs": [
    {
     "data": {
      "text/plain": [
       "{'n_estimators': 73,\n",
       " 'min_samples_split': 7,\n",
       " 'min_samples_leaf': 1,\n",
       " 'max_features': 'sqrt',\n",
       " 'max_depth': 50,\n",
       " 'criterion': 'entropy'}"
      ]
     },
     "execution_count": 151,
     "metadata": {},
     "output_type": "execute_result"
    }
   ],
   "source": [
    "rf_randomcv.best_params_"
   ]
  },
  {
   "cell_type": "code",
   "execution_count": 152,
   "id": "fd6d737f",
   "metadata": {},
   "outputs": [
    {
     "data": {
      "text/plain": [
       "RandomForestClassifier(criterion='entropy', max_depth=50, max_features='sqrt',\n",
       "                       min_samples_split=7, n_estimators=73)"
      ]
     },
     "execution_count": 152,
     "metadata": {},
     "output_type": "execute_result"
    }
   ],
   "source": [
    "best_random_grid_rf=rf_randomcv.best_estimator_\n",
    "best_random_grid_rf"
   ]
  },
  {
   "cell_type": "code",
   "execution_count": 153,
   "id": "89ac28e3",
   "metadata": {},
   "outputs": [
    {
     "data": {
      "text/plain": [
       "array([0, 0, 0, ..., 0, 0, 0], dtype=uint8)"
      ]
     },
     "execution_count": 153,
     "metadata": {},
     "output_type": "execute_result"
    }
   ],
   "source": [
    "y_predict_rf=best_random_grid_rf.predict(x_test)\n",
    "y_predict_rf"
   ]
  },
  {
   "cell_type": "code",
   "execution_count": 154,
   "id": "5a37c28a",
   "metadata": {},
   "outputs": [],
   "source": [
    "from sklearn.metrics import confusion_matrix,classification_report,accuracy_score"
   ]
  },
  {
   "cell_type": "code",
   "execution_count": 155,
   "id": "24c898cf",
   "metadata": {},
   "outputs": [
    {
     "name": "stdout",
     "output_type": "stream",
     "text": [
      "[[1317   39]\n",
      " [  15  129]]\n",
      "Accuracy score : 0.964\n",
      "classification Report :               precision    recall  f1-score   support\n",
      "\n",
      "           0       0.99      0.97      0.98      1356\n",
      "           1       0.77      0.90      0.83       144\n",
      "\n",
      "    accuracy                           0.96      1500\n",
      "   macro avg       0.88      0.93      0.90      1500\n",
      "weighted avg       0.97      0.96      0.97      1500\n",
      "\n"
     ]
    }
   ],
   "source": [
    "\n",
    "print(confusion_matrix(y_test,y_predict_rf))\n",
    "print(\"Accuracy score : {}\".format(accuracy_score(y_test,y_predict_rf)))\n",
    "print(\"classification Report : {}\".format(classification_report(y_test,y_predict_rf)))"
   ]
  },
  {
   "cell_type": "code",
   "execution_count": 70,
   "id": "741218d4",
   "metadata": {},
   "outputs": [],
   "source": [
    "#hyperparameter tunning for xgboost\n"
   ]
  },
  {
   "cell_type": "markdown",
   "id": "8411be4e",
   "metadata": {},
   "source": [
    "# Our Model"
   ]
  },
  {
   "cell_type": "code",
   "execution_count": 129,
   "id": "c8428383",
   "metadata": {},
   "outputs": [],
   "source": [
    "loss=[\"log_loss\",\"exponential\"]\n",
    "n_estimators=[int(x) for x in np.linspace(start=10, stop=200, num=10)]\n",
    "criterion=[\"friedman_mse\", \"squared_error\"]\n",
    "min_samples_split=[1,3,4,5,7,10]\n",
    "min_samples_leaf=[1,2,4,6,8]\n",
    "max_depth=[int(x) for x in np.linspace(10,100,10)]\n",
    "max_features=[\"sqrt\",\"log2\"]\n",
    "\n",
    "\n",
    "random_grid={\"n_estimators\":n_estimators,\n",
    "             \"loss\":loss,\n",
    "             \"criterion\":criterion,\n",
    "             \"min_samples_split\":min_samples_split,\n",
    "             \"min_samples_leaf\":min_samples_leaf,\n",
    "             \"max_depth\":max_depth,\n",
    "             \"max_features\":max_features}"
   ]
  },
  {
   "cell_type": "code",
   "execution_count": 130,
   "id": "1dbcbabe",
   "metadata": {},
   "outputs": [
    {
     "name": "stdout",
     "output_type": "stream",
     "text": [
      "{'n_estimators': [10, 31, 52, 73, 94, 115, 136, 157, 178, 200], 'loss': ['log_loss', 'exponential'], 'criterion': ['friedman_mse', 'squared_error'], 'min_samples_split': [1, 3, 4, 5, 7, 10], 'min_samples_leaf': [1, 2, 4, 6, 8], 'max_depth': [10, 20, 30, 40, 50, 60, 70, 80, 90, 100], 'max_features': ['sqrt', 'log2']}\n"
     ]
    }
   ],
   "source": [
    "print(random_grid)"
   ]
  },
  {
   "cell_type": "code",
   "execution_count": 131,
   "id": "e04411e7",
   "metadata": {},
   "outputs": [],
   "source": [
    "xgBoost=GradientBoostingClassifier()\n",
    "xgBoost_randomcv=RandomizedSearchCV(estimator=xgBoost,param_distributions=random_grid,n_iter=50,cv=5,\n",
    "                                   verbose=3,random_state=42,n_jobs=-1)  "
   ]
  },
  {
   "cell_type": "code",
   "execution_count": 142,
   "id": "c1d3034e",
   "metadata": {},
   "outputs": [
    {
     "name": "stdout",
     "output_type": "stream",
     "text": [
      "Fitting 5 folds for each of 50 candidates, totalling 250 fits\n"
     ]
    },
    {
     "name": "stderr",
     "output_type": "stream",
     "text": [
      "C:\\Users\\pp884\\Anaconda3\\lib\\site-packages\\sklearn\\model_selection\\_search.py:922: UserWarning: One or more of the test scores are non-finite: [       nan        nan        nan        nan        nan 0.97934475\n",
      "        nan        nan 0.9795345         nan        nan        nan\n",
      "        nan 0.97782924        nan 0.97688083        nan        nan\n",
      "        nan        nan        nan        nan        nan        nan\n",
      "        nan        nan 0.97820713 0.97801828        nan        nan\n",
      "        nan        nan        nan        nan        nan        nan\n",
      "        nan        nan 0.97782888        nan        nan 0.97801756\n",
      "        nan        nan        nan 0.97820731 0.97650151 0.97820731\n",
      " 0.97612218 0.97688048]\n",
      "  warnings.warn(\n"
     ]
    },
    {
     "data": {
      "text/plain": [
       "RandomizedSearchCV(cv=5, estimator=GradientBoostingClassifier(), n_iter=50,\n",
       "                   n_jobs=-1,\n",
       "                   param_distributions={'criterion': ['friedman_mse',\n",
       "                                                      'squared_error'],\n",
       "                                        'loss': ['log_loss', 'exponential'],\n",
       "                                        'max_depth': [10, 20, 30, 40, 50, 60,\n",
       "                                                      70, 80, 90, 100],\n",
       "                                        'max_features': ['sqrt', 'log2'],\n",
       "                                        'min_samples_leaf': [1, 2, 4, 6, 8],\n",
       "                                        'min_samples_split': [1, 3, 4, 5, 7,\n",
       "                                                              10],\n",
       "                                        'n_estimators': [10, 31, 52, 73, 94,\n",
       "                                                         115, 136, 157, 178,\n",
       "                                                         200]},\n",
       "                   random_state=42, verbose=3)"
      ]
     },
     "execution_count": 142,
     "metadata": {},
     "output_type": "execute_result"
    }
   ],
   "source": [
    "xgBoost_randomcv.fit(x_train_sm,y_train_sm)              "
   ]
  },
  {
   "cell_type": "code",
   "execution_count": 143,
   "id": "3e3d5626",
   "metadata": {},
   "outputs": [
    {
     "data": {
      "text/plain": [
       "{'n_estimators': 115,\n",
       " 'min_samples_split': 4,\n",
       " 'min_samples_leaf': 8,\n",
       " 'max_features': 'sqrt',\n",
       " 'max_depth': 10,\n",
       " 'loss': 'exponential',\n",
       " 'criterion': 'friedman_mse'}"
      ]
     },
     "execution_count": 143,
     "metadata": {},
     "output_type": "execute_result"
    }
   ],
   "source": [
    "xgBoost_randomcv.best_params_"
   ]
  },
  {
   "cell_type": "code",
   "execution_count": 144,
   "id": "1c598758",
   "metadata": {},
   "outputs": [
    {
     "data": {
      "text/plain": [
       "GradientBoostingClassifier(loss='exponential', max_depth=10,\n",
       "                           max_features='sqrt', min_samples_leaf=8,\n",
       "                           min_samples_split=4, n_estimators=115)"
      ]
     },
     "execution_count": 144,
     "metadata": {},
     "output_type": "execute_result"
    }
   ],
   "source": [
    "best_random_grid=xgBoost_randomcv.best_estimator_\n",
    "best_random_grid"
   ]
  },
  {
   "cell_type": "code",
   "execution_count": 145,
   "id": "3f7791d0",
   "metadata": {},
   "outputs": [
    {
     "data": {
      "text/plain": [
       "array([0, 0, 0, ..., 0, 0, 0], dtype=uint8)"
      ]
     },
     "execution_count": 145,
     "metadata": {},
     "output_type": "execute_result"
    }
   ],
   "source": [
    "y_predict=best_random_grid.predict(x_test)\n",
    "y_predict"
   ]
  },
  {
   "cell_type": "code",
   "execution_count": 146,
   "id": "559acb59",
   "metadata": {},
   "outputs": [
    {
     "name": "stdout",
     "output_type": "stream",
     "text": [
      "[[1324   32]\n",
      " [  18  126]]\n",
      "Accuracy score : 0.9666666666666667\n",
      "classification Report :               precision    recall  f1-score   support\n",
      "\n",
      "           0       0.99      0.98      0.98      1356\n",
      "           1       0.80      0.88      0.83       144\n",
      "\n",
      "    accuracy                           0.97      1500\n",
      "   macro avg       0.89      0.93      0.91      1500\n",
      "weighted avg       0.97      0.97      0.97      1500\n",
      "\n"
     ]
    }
   ],
   "source": [
    "print(confusion_matrix(y_test,y_predict))\n",
    "print(\"Accuracy score : {}\".format(accuracy_score(y_test,y_predict)))\n",
    "print(\"classification Report : {}\".format(classification_report(y_test,y_predict)))"
   ]
  },
  {
   "cell_type": "code",
   "execution_count": null,
   "id": "d5ef872d",
   "metadata": {},
   "outputs": [],
   "source": []
  },
  {
   "cell_type": "code",
   "execution_count": null,
   "id": "b439c6bf",
   "metadata": {},
   "outputs": [],
   "source": []
  },
  {
   "cell_type": "code",
   "execution_count": null,
   "id": "20688076",
   "metadata": {},
   "outputs": [],
   "source": []
  },
  {
   "cell_type": "code",
   "execution_count": null,
   "id": "7916c261",
   "metadata": {},
   "outputs": [],
   "source": []
  },
  {
   "cell_type": "code",
   "execution_count": 335,
   "id": "9f084542",
   "metadata": {},
   "outputs": [],
   "source": []
  },
  {
   "cell_type": "code",
   "execution_count": null,
   "id": "40974787",
   "metadata": {},
   "outputs": [],
   "source": []
  },
  {
   "cell_type": "code",
   "execution_count": null,
   "id": "e0a404f2",
   "metadata": {},
   "outputs": [],
   "source": []
  },
  {
   "cell_type": "code",
   "execution_count": null,
   "id": "89ad738a",
   "metadata": {},
   "outputs": [],
   "source": []
  },
  {
   "cell_type": "code",
   "execution_count": null,
   "id": "5fea172b",
   "metadata": {},
   "outputs": [],
   "source": []
  },
  {
   "cell_type": "code",
   "execution_count": null,
   "id": "a8ce4d19",
   "metadata": {},
   "outputs": [],
   "source": []
  },
  {
   "cell_type": "code",
   "execution_count": null,
   "id": "46e8728a",
   "metadata": {},
   "outputs": [],
   "source": []
  },
  {
   "cell_type": "code",
   "execution_count": null,
   "id": "bd87bf4b",
   "metadata": {},
   "outputs": [],
   "source": []
  },
  {
   "cell_type": "code",
   "execution_count": null,
   "id": "aa4cf7ff",
   "metadata": {},
   "outputs": [],
   "source": []
  },
  {
   "cell_type": "code",
   "execution_count": null,
   "id": "a3118aaf",
   "metadata": {},
   "outputs": [],
   "source": []
  },
  {
   "cell_type": "code",
   "execution_count": null,
   "id": "87d6028d",
   "metadata": {},
   "outputs": [],
   "source": []
  },
  {
   "cell_type": "code",
   "execution_count": null,
   "id": "e2bd551f",
   "metadata": {},
   "outputs": [],
   "source": []
  },
  {
   "cell_type": "code",
   "execution_count": null,
   "id": "6bb5ec07",
   "metadata": {},
   "outputs": [],
   "source": []
  },
  {
   "cell_type": "code",
   "execution_count": null,
   "id": "01f6d456",
   "metadata": {},
   "outputs": [],
   "source": []
  },
  {
   "cell_type": "code",
   "execution_count": null,
   "id": "6e3b585b",
   "metadata": {},
   "outputs": [],
   "source": []
  },
  {
   "cell_type": "code",
   "execution_count": null,
   "id": "b009d1ad",
   "metadata": {},
   "outputs": [],
   "source": []
  },
  {
   "cell_type": "code",
   "execution_count": null,
   "id": "a3180f6e",
   "metadata": {},
   "outputs": [],
   "source": []
  }
 ],
 "metadata": {
  "kernelspec": {
   "display_name": "Python 3 (ipykernel)",
   "language": "python",
   "name": "python3"
  },
  "language_info": {
   "codemirror_mode": {
    "name": "ipython",
    "version": 3
   },
   "file_extension": ".py",
   "mimetype": "text/x-python",
   "name": "python",
   "nbconvert_exporter": "python",
   "pygments_lexer": "ipython3",
   "version": "3.9.7"
  }
 },
 "nbformat": 4,
 "nbformat_minor": 5
}
